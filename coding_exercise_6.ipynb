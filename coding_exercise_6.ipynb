{
 "cells": [
  {
   "cell_type": "code",
   "execution_count": 1,
   "metadata": {},
   "outputs": [],
   "source": [
    "from selenium import webdriver\n",
    "from warnings import filterwarnings\n",
    "from selenium.webdriver.common.keys import Keys\n",
    "from bs4 import BeautifulSoup\n",
    "import time\n",
    "import pandas as pd\n",
    "import warnings\n",
    "warnings.simplefilter(action='ignore', category=FutureWarning)\n",
    "from selenium.webdriver.common.by import By\n",
    "from selenium.webdriver.support.ui import WebDriverWait\n",
    "from selenium.webdriver.support import expected_conditions as EC\n",
    "from selenium.webdriver.common.action_chains import ActionChains"
   ]
  },
  {
   "cell_type": "code",
   "execution_count": 2,
   "metadata": {},
   "outputs": [],
   "source": [
    "url = 'https://in.indeed.com/'\n",
    "job = 'data engineer'\n",
    "loc = 'bengaluru'"
   ]
  },
  {
   "cell_type": "code",
   "execution_count": 3,
   "metadata": {},
   "outputs": [
    {
     "name": "stderr",
     "output_type": "stream",
     "text": [
      "C:\\Users\\Varun\\AppData\\Local\\Temp\\ipykernel_13792\\2295011359.py:1: DeprecationWarning: executable_path has been deprecated, please pass in a Service object\n",
      "  driver = webdriver.Chrome('E:/Data Science Practice/Udemy/Web_scraping_course/chromedriver.exe')\n"
     ]
    }
   ],
   "source": [
    "driver = webdriver.Chrome('E:/Data Science Practice/Udemy/Web_scraping_course/chromedriver.exe')\n",
    "driver.get(url)\n",
    "#element = WebDriverWait(driver,5).until(EC.presence_of_element_located((By.XPATH,'xpath','//*[@id=\"text-input-what\"]')))\n",
    "what = driver.find_element('xpath','//*[@id=\"text-input-what\"]')\n",
    "what.send_keys(job)\n",
    "where = driver.find_element('xpath','//*[@id=\"text-input-where\"]')\n",
    "where.send_keys(loc)\n",
    "driver.find_element('xpath','//*[@id=\"jobsearch\"]/button').click()\n",
    "#element = WebDriverWait(driver,5).until(EC.presence_of_element_located((By.XPATH,'//*[@id=\"resultsBody\"]')))\n",
    "soup = BeautifulSoup(driver.page_source,'lxml')\n",
    "postings = soup.find('ul',class_='jobsearch-ResultsList css-0').find_all('li')[:-1]"
   ]
  },
  {
   "cell_type": "code",
   "execution_count": 6,
   "metadata": {},
   "outputs": [],
   "source": [
    "cols = ['Title','Company','Location','Posted Duration','Link']\n",
    "df = pd.DataFrame(columns=cols)"
   ]
  },
  {
   "cell_type": "code",
   "execution_count": 5,
   "metadata": {},
   "outputs": [
    {
     "name": "stdout",
     "output_type": "stream",
     "text": [
      "1 done\n"
     ]
    },
    {
     "ename": "AttributeError",
     "evalue": "'NoneType' object has no attribute 'find_all'",
     "output_type": "error",
     "traceback": [
      "\u001b[1;31m---------------------------------------------------------------------------\u001b[0m",
      "\u001b[1;31mAttributeError\u001b[0m                            Traceback (most recent call last)",
      "\u001b[1;32me:\\Data Science Practice\\Udemy\\Web_scraping_course\\coding_exercise_6.ipynb Cell 5\u001b[0m in \u001b[0;36m<cell line: 3>\u001b[1;34m()\u001b[0m\n\u001b[0;32m     <a href='vscode-notebook-cell:/e%3A/Data%20Science%20Practice/Udemy/Web_scraping_course/coding_exercise_6.ipynb#Y120sZmlsZQ%3D%3D?line=16'>17</a>\u001b[0m \u001b[39mprint\u001b[39m(\u001b[39mf\u001b[39m\u001b[39m'\u001b[39m\u001b[39m{\u001b[39;00mcount\u001b[39m}\u001b[39;00m\u001b[39m done\u001b[39m\u001b[39m'\u001b[39m)\n\u001b[0;32m     <a href='vscode-notebook-cell:/e%3A/Data%20Science%20Practice/Udemy/Web_scraping_course/coding_exercise_6.ipynb#Y120sZmlsZQ%3D%3D?line=17'>18</a>\u001b[0m \u001b[39m#ActionChains(driver).move_to_element(driver.find_element('xpath',f'//*[@id=\"mosaic-provider-jobcards\"]/ul/li[{len(postings)}]')).perform()\u001b[39;00m\n\u001b[0;32m     <a href='vscode-notebook-cell:/e%3A/Data%20Science%20Practice/Udemy/Web_scraping_course/coding_exercise_6.ipynb#Y120sZmlsZQ%3D%3D?line=18'>19</a>\u001b[0m \u001b[39m#driver.execute_script('window.scrollTo(0,document.body.scrollHeight -1500)')\u001b[39;00m\n\u001b[1;32m---> <a href='vscode-notebook-cell:/e%3A/Data%20Science%20Practice/Udemy/Web_scraping_course/coding_exercise_6.ipynb#Y120sZmlsZQ%3D%3D?line=19'>20</a>\u001b[0m nexx \u001b[39m=\u001b[39m soup\u001b[39m.\u001b[39;49mfind(\u001b[39m'\u001b[39;49m\u001b[39mnav\u001b[39;49m\u001b[39m'\u001b[39;49m,{\u001b[39m'\u001b[39;49m\u001b[39mrole\u001b[39;49m\u001b[39m'\u001b[39;49m:\u001b[39m'\u001b[39;49m\u001b[39mnavigation\u001b[39;49m\u001b[39m'\u001b[39;49m,\u001b[39m'\u001b[39;49m\u001b[39maria-label\u001b[39;49m\u001b[39m'\u001b[39;49m:\u001b[39m'\u001b[39;49m\u001b[39mpagination\u001b[39;49m\u001b[39m'\u001b[39;49m},class_\u001b[39m=\u001b[39;49m\u001b[39m'\u001b[39;49m\u001b[39mcss-jbuxu0 ecydgvn0\u001b[39;49m\u001b[39m'\u001b[39;49m)\u001b[39m.\u001b[39;49mfind_all(\u001b[39m'\u001b[39m\u001b[39mdiv\u001b[39m\u001b[39m'\u001b[39m,class_\u001b[39m=\u001b[39m\u001b[39m'\u001b[39m\u001b[39mcss-tvvxwd ecydgvn1\u001b[39m\u001b[39m'\u001b[39m)\n\u001b[0;32m     <a href='vscode-notebook-cell:/e%3A/Data%20Science%20Practice/Udemy/Web_scraping_course/coding_exercise_6.ipynb#Y120sZmlsZQ%3D%3D?line=20'>21</a>\u001b[0m driver\u001b[39m.\u001b[39mfind_element(\u001b[39m'\u001b[39m\u001b[39mxpath\u001b[39m\u001b[39m'\u001b[39m,\u001b[39mf\u001b[39m\u001b[39m'\u001b[39m\u001b[39m//*[@id=\u001b[39m\u001b[39m\"\u001b[39m\u001b[39mjobsearch-JapanPage\u001b[39m\u001b[39m\"\u001b[39m\u001b[39m]/div/div/div[5]/div[1]/nav/div[\u001b[39m\u001b[39m{\u001b[39;00m\u001b[39mlen\u001b[39m(nexx)\u001b[39m}\u001b[39;00m\u001b[39m]/a\u001b[39m\u001b[39m'\u001b[39m)\u001b[39m.\u001b[39mclick()\n\u001b[0;32m     <a href='vscode-notebook-cell:/e%3A/Data%20Science%20Practice/Udemy/Web_scraping_course/coding_exercise_6.ipynb#Y120sZmlsZQ%3D%3D?line=21'>22</a>\u001b[0m time\u001b[39m.\u001b[39msleep(\u001b[39m5\u001b[39m)\n",
      "\u001b[1;31mAttributeError\u001b[0m: 'NoneType' object has no attribute 'find_all'"
     ]
    }
   ],
   "source": [
    "count = 1\n",
    "while True:\n",
    "    for i in postings:\n",
    "        try:\n",
    "            aa = i.find('div',class_='slider_item css-kyg8or eu4oa1w0')\n",
    "            ls = []\n",
    "            ls.append(aa.find('a',class_='jcs-JobTitle css-jspxzf eu4oa1w0').find('span').text)\n",
    "            ls.append(aa.find('div',class_='heading6 company_location tapItem-gutter companyInfo').find('span').text)\n",
    "            ls.append(aa.find('div',class_='heading6 company_location tapItem-gutter companyInfo').find('div',class_='companyLocation').text)\n",
    "            #ls.append(aa.find('div',class_='heading6 company_location tapItem-gutter companyInfo').find('span',class_='ratingNumber').find('span',{'aria-hidden':'true'}).text)\n",
    "            ls.append(aa.find('table',class_='jobCardShelfContainer big6_visualChanges').find('div',class_='heading6 tapItem-gutter result-footer').find('span').text[6:])\n",
    "            ls.append('https://in.indeed.com/viewjob' + aa.find('a',class_='jcs-JobTitle css-jspxzf eu4oa1w0').get('href')[7:])\n",
    "            df = pd.concat([df,pd.DataFrame([dict(zip(cols,ls))])])\n",
    "            #df = df.append(dict(zip(cols,ls)),ignore_index=True)     \n",
    "        except:\n",
    "            pass\n",
    "    print(f'{count} done')\n",
    "    #ActionChains(driver).move_to_element(driver.find_element('xpath',f'//*[@id=\"mosaic-provider-jobcards\"]/ul/li[{len(postings)}]')).perform()\n",
    "    #driver.execute_script('window.scrollTo(0,document.body.scrollHeight -1500)')\n",
    "    nexx = soup.find('nav',{'role':'navigation','aria-label':'pagination'},class_='css-jbuxu0 ecydgvn0').find_all('div',class_='css-tvvxwd ecydgvn1')\n",
    "    driver.find_element('xpath',f'//*[@id=\"jobsearch-JapanPage\"]/div/div/div[5]/div[1]/nav/div[{len(nexx)}]/a').click()\n",
    "    time.sleep(5)\n",
    "    #element = WebDriverWait(driver,2).until(EC.presence_of_element_located((By.XPATH,'//*[@id=\"resultsBody\"]')))\n",
    "    soup = BeautifulSoup(driver.page_source,'lxml')\n",
    "    postings = soup.find('ul',class_='jobsearch-ResultsList css-0').find_all('li')[:-1]\n",
    "    count += 1\n",
    "    if df.shape[0]>20:\n",
    "        break"
   ]
  },
  {
   "cell_type": "code",
   "execution_count": null,
   "metadata": {},
   "outputs": [],
   "source": [
    "df.to_csv('indeed_postings.csv',index=False)"
   ]
  },
  {
   "cell_type": "code",
   "execution_count": null,
   "metadata": {},
   "outputs": [],
   "source": []
  },
  {
   "cell_type": "code",
   "execution_count": null,
   "metadata": {},
   "outputs": [],
   "source": []
  },
  {
   "cell_type": "code",
   "execution_count": 9,
   "metadata": {},
   "outputs": [
    {
     "name": "stdout",
     "output_type": "stream",
     "text": [
      "1 done\n",
      "2 done\n"
     ]
    },
    {
     "ename": "ElementNotInteractableException",
     "evalue": "Message: element not interactable\n  (Session info: chrome=105.0.5195.102)\nStacktrace:\nBacktrace:\n\tOrdinal0 [0x003BDF13+2219795]\n\tOrdinal0 [0x00352841+1779777]\n\tOrdinal0 [0x00264100+803072]\n\tOrdinal0 [0x00293FB6+999350]\n\tOrdinal0 [0x00289B76+957302]\n\tOrdinal0 [0x002AE7FC+1107964]\n\tOrdinal0 [0x002894B4+955572]\n\tOrdinal0 [0x002AEA14+1108500]\n\tOrdinal0 [0x002BF192+1175954]\n\tOrdinal0 [0x002AE616+1107478]\n\tOrdinal0 [0x00287F89+950153]\n\tOrdinal0 [0x00288F56+954198]\n\tGetHandleVerifier [0x006B2CB2+3040210]\n\tGetHandleVerifier [0x006A2BB4+2974420]\n\tGetHandleVerifier [0x00456A0A+565546]\n\tGetHandleVerifier [0x00455680+560544]\n\tOrdinal0 [0x00359A5C+1808988]\n\tOrdinal0 [0x0035E3A8+1827752]\n\tOrdinal0 [0x0035E495+1827989]\n\tOrdinal0 [0x003680A4+1867940]\n\tBaseThreadInitThunk [0x76CF6739+25]\n\tRtlGetFullPathName_UEx [0x77AA90AF+1215]\n\tRtlGetFullPathName_UEx [0x77AA907D+1165]\n",
     "output_type": "error",
     "traceback": [
      "\u001b[1;31m---------------------------------------------------------------------------\u001b[0m",
      "\u001b[1;31mElementNotInteractableException\u001b[0m           Traceback (most recent call last)",
      "\u001b[1;32me:\\Data Science Practice\\Udemy\\Web_scraping_course\\coding_exercise_6.ipynb Cell 9\u001b[0m in \u001b[0;36m<cell line: 3>\u001b[1;34m()\u001b[0m\n\u001b[0;32m     <a href='vscode-notebook-cell:/e%3A/Data%20Science%20Practice/Udemy/Web_scraping_course/coding_exercise_6.ipynb#X35sZmlsZQ%3D%3D?line=17'>18</a>\u001b[0m \u001b[39m#ActionChains(driver).move_to_element(driver.find_element('xpath',f'//*[@id=\"mosaic-provider-jobcards\"]/ul/li[{len(postings)}]')).perform()\u001b[39;00m\n\u001b[0;32m     <a href='vscode-notebook-cell:/e%3A/Data%20Science%20Practice/Udemy/Web_scraping_course/coding_exercise_6.ipynb#X35sZmlsZQ%3D%3D?line=18'>19</a>\u001b[0m \u001b[39m#driver.execute_script('window.scrollTo(0,document.body.scrollHeight -1500)')\u001b[39;00m\n\u001b[0;32m     <a href='vscode-notebook-cell:/e%3A/Data%20Science%20Practice/Udemy/Web_scraping_course/coding_exercise_6.ipynb#X35sZmlsZQ%3D%3D?line=19'>20</a>\u001b[0m nexx \u001b[39m=\u001b[39m soup\u001b[39m.\u001b[39mfind(\u001b[39m'\u001b[39m\u001b[39mnav\u001b[39m\u001b[39m'\u001b[39m,{\u001b[39m'\u001b[39m\u001b[39mrole\u001b[39m\u001b[39m'\u001b[39m:\u001b[39m'\u001b[39m\u001b[39mnavigation\u001b[39m\u001b[39m'\u001b[39m,\u001b[39m'\u001b[39m\u001b[39maria-label\u001b[39m\u001b[39m'\u001b[39m:\u001b[39m'\u001b[39m\u001b[39mpagination\u001b[39m\u001b[39m'\u001b[39m})\u001b[39m.\u001b[39mfind(\u001b[39m'\u001b[39m\u001b[39mdiv\u001b[39m\u001b[39m'\u001b[39m,class_\u001b[39m=\u001b[39m\u001b[39m'\u001b[39m\u001b[39mpagination\u001b[39m\u001b[39m'\u001b[39m)\u001b[39m.\u001b[39mfind_all(\u001b[39m'\u001b[39m\u001b[39mli\u001b[39m\u001b[39m'\u001b[39m)\n\u001b[1;32m---> <a href='vscode-notebook-cell:/e%3A/Data%20Science%20Practice/Udemy/Web_scraping_course/coding_exercise_6.ipynb#X35sZmlsZQ%3D%3D?line=20'>21</a>\u001b[0m driver\u001b[39m.\u001b[39;49mfind_element(\u001b[39m'\u001b[39;49m\u001b[39mxpath\u001b[39;49m\u001b[39m'\u001b[39;49m,\u001b[39mf\u001b[39;49m\u001b[39m'\u001b[39;49m\u001b[39m/html/body/table[2]/tbody/tr/td/table/tbody/tr/td[1]/nav/div/ul/li[\u001b[39;49m\u001b[39m{\u001b[39;49;00m\u001b[39mlen\u001b[39;49m(nexx)\u001b[39m}\u001b[39;49;00m\u001b[39m]\u001b[39;49m\u001b[39m'\u001b[39;49m)\u001b[39m.\u001b[39;49mclick()\n\u001b[0;32m     <a href='vscode-notebook-cell:/e%3A/Data%20Science%20Practice/Udemy/Web_scraping_course/coding_exercise_6.ipynb#X35sZmlsZQ%3D%3D?line=21'>22</a>\u001b[0m time\u001b[39m.\u001b[39msleep(\u001b[39m5\u001b[39m)\n\u001b[0;32m     <a href='vscode-notebook-cell:/e%3A/Data%20Science%20Practice/Udemy/Web_scraping_course/coding_exercise_6.ipynb#X35sZmlsZQ%3D%3D?line=22'>23</a>\u001b[0m \u001b[39m#element = WebDriverWait(driver,2).until(EC.presence_of_element_located((By.XPATH,'//*[@id=\"resultsBody\"]')))\u001b[39;00m\n",
      "File \u001b[1;32me:\\Data Science Practice\\Udemy\\Web_scraping_course\\Science\\lib\\site-packages\\selenium\\webdriver\\remote\\webelement.py:88\u001b[0m, in \u001b[0;36mWebElement.click\u001b[1;34m(self)\u001b[0m\n\u001b[0;32m     86\u001b[0m \u001b[39mdef\u001b[39;00m \u001b[39mclick\u001b[39m(\u001b[39mself\u001b[39m) \u001b[39m-\u001b[39m\u001b[39m>\u001b[39m \u001b[39mNone\u001b[39;00m:\n\u001b[0;32m     87\u001b[0m     \u001b[39m\"\"\"Clicks the element.\"\"\"\u001b[39;00m\n\u001b[1;32m---> 88\u001b[0m     \u001b[39mself\u001b[39;49m\u001b[39m.\u001b[39;49m_execute(Command\u001b[39m.\u001b[39;49mCLICK_ELEMENT)\n",
      "File \u001b[1;32me:\\Data Science Practice\\Udemy\\Web_scraping_course\\Science\\lib\\site-packages\\selenium\\webdriver\\remote\\webelement.py:396\u001b[0m, in \u001b[0;36mWebElement._execute\u001b[1;34m(self, command, params)\u001b[0m\n\u001b[0;32m    394\u001b[0m     params \u001b[39m=\u001b[39m {}\n\u001b[0;32m    395\u001b[0m params[\u001b[39m'\u001b[39m\u001b[39mid\u001b[39m\u001b[39m'\u001b[39m] \u001b[39m=\u001b[39m \u001b[39mself\u001b[39m\u001b[39m.\u001b[39m_id\n\u001b[1;32m--> 396\u001b[0m \u001b[39mreturn\u001b[39;00m \u001b[39mself\u001b[39;49m\u001b[39m.\u001b[39;49m_parent\u001b[39m.\u001b[39;49mexecute(command, params)\n",
      "File \u001b[1;32me:\\Data Science Practice\\Udemy\\Web_scraping_course\\Science\\lib\\site-packages\\selenium\\webdriver\\remote\\webdriver.py:428\u001b[0m, in \u001b[0;36mWebDriver.execute\u001b[1;34m(self, driver_command, params)\u001b[0m\n\u001b[0;32m    426\u001b[0m response \u001b[39m=\u001b[39m \u001b[39mself\u001b[39m\u001b[39m.\u001b[39mcommand_executor\u001b[39m.\u001b[39mexecute(driver_command, params)\n\u001b[0;32m    427\u001b[0m \u001b[39mif\u001b[39;00m response:\n\u001b[1;32m--> 428\u001b[0m     \u001b[39mself\u001b[39;49m\u001b[39m.\u001b[39;49merror_handler\u001b[39m.\u001b[39;49mcheck_response(response)\n\u001b[0;32m    429\u001b[0m     response[\u001b[39m'\u001b[39m\u001b[39mvalue\u001b[39m\u001b[39m'\u001b[39m] \u001b[39m=\u001b[39m \u001b[39mself\u001b[39m\u001b[39m.\u001b[39m_unwrap_value(\n\u001b[0;32m    430\u001b[0m         response\u001b[39m.\u001b[39mget(\u001b[39m'\u001b[39m\u001b[39mvalue\u001b[39m\u001b[39m'\u001b[39m, \u001b[39mNone\u001b[39;00m))\n\u001b[0;32m    431\u001b[0m     \u001b[39mreturn\u001b[39;00m response\n",
      "File \u001b[1;32me:\\Data Science Practice\\Udemy\\Web_scraping_course\\Science\\lib\\site-packages\\selenium\\webdriver\\remote\\errorhandler.py:243\u001b[0m, in \u001b[0;36mErrorHandler.check_response\u001b[1;34m(self, response)\u001b[0m\n\u001b[0;32m    241\u001b[0m         alert_text \u001b[39m=\u001b[39m value[\u001b[39m'\u001b[39m\u001b[39malert\u001b[39m\u001b[39m'\u001b[39m]\u001b[39m.\u001b[39mget(\u001b[39m'\u001b[39m\u001b[39mtext\u001b[39m\u001b[39m'\u001b[39m)\n\u001b[0;32m    242\u001b[0m     \u001b[39mraise\u001b[39;00m exception_class(message, screen, stacktrace, alert_text)  \u001b[39m# type: ignore[call-arg]  # mypy is not smart enough here\u001b[39;00m\n\u001b[1;32m--> 243\u001b[0m \u001b[39mraise\u001b[39;00m exception_class(message, screen, stacktrace)\n",
      "\u001b[1;31mElementNotInteractableException\u001b[0m: Message: element not interactable\n  (Session info: chrome=105.0.5195.102)\nStacktrace:\nBacktrace:\n\tOrdinal0 [0x003BDF13+2219795]\n\tOrdinal0 [0x00352841+1779777]\n\tOrdinal0 [0x00264100+803072]\n\tOrdinal0 [0x00293FB6+999350]\n\tOrdinal0 [0x00289B76+957302]\n\tOrdinal0 [0x002AE7FC+1107964]\n\tOrdinal0 [0x002894B4+955572]\n\tOrdinal0 [0x002AEA14+1108500]\n\tOrdinal0 [0x002BF192+1175954]\n\tOrdinal0 [0x002AE616+1107478]\n\tOrdinal0 [0x00287F89+950153]\n\tOrdinal0 [0x00288F56+954198]\n\tGetHandleVerifier [0x006B2CB2+3040210]\n\tGetHandleVerifier [0x006A2BB4+2974420]\n\tGetHandleVerifier [0x00456A0A+565546]\n\tGetHandleVerifier [0x00455680+560544]\n\tOrdinal0 [0x00359A5C+1808988]\n\tOrdinal0 [0x0035E3A8+1827752]\n\tOrdinal0 [0x0035E495+1827989]\n\tOrdinal0 [0x003680A4+1867940]\n\tBaseThreadInitThunk [0x76CF6739+25]\n\tRtlGetFullPathName_UEx [0x77AA90AF+1215]\n\tRtlGetFullPathName_UEx [0x77AA907D+1165]\n"
     ]
    }
   ],
   "source": [
    "count = 1\n",
    "while True:\n",
    "    for i in postings:\n",
    "        try:\n",
    "            aa = i.find('div',class_='slider_item css-kyg8or eu4oa1w0')\n",
    "            ls = []\n",
    "            ls.append(aa.find('a',class_='jcs-JobTitle css-jspxzf eu4oa1w0').find('span').text)\n",
    "            ls.append(aa.find('div',class_='heading6 company_location tapItem-gutter companyInfo').find('span').text)\n",
    "            ls.append(aa.find('div',class_='heading6 company_location tapItem-gutter companyInfo').find('div',class_='companyLocation').text)\n",
    "            #ls.append(aa.find('div',class_='heading6 company_location tapItem-gutter companyInfo').find('span',class_='ratingNumber').find('span',{'aria-hidden':'true'}).text)\n",
    "            ls.append(aa.find('table',class_='jobCardShelfContainer big6_visualChanges').find('div',class_='heading6 tapItem-gutter result-footer').find('span').text[6:])\n",
    "            ls.append('https://in.indeed.com/viewjob' + aa.find('a',class_='jcs-JobTitle css-jspxzf eu4oa1w0').get('href')[7:])\n",
    "            df = pd.concat([df,pd.DataFrame([dict(zip(cols,ls))])])\n",
    "            #df = df.append(dict(zip(cols,ls)),ignore_index=True)         \n",
    "        except:\n",
    "            pass\n",
    "    print(f'{count} done')\n",
    "    #ActionChains(driver).move_to_element(driver.find_element('xpath',f'//*[@id=\"mosaic-provider-jobcards\"]/ul/li[{len(postings)}]')).perform()\n",
    "    #driver.execute_script('window.scrollTo(0,document.body.scrollHeight -1500)')\n",
    "    nexx = soup.find('nav',{'role':'navigation','aria-label':'pagination'}).find('div',class_='pagination').find_all('li')\n",
    "    driver.find_element('xpath',f'/html/body/table[2]/tbody/tr/td/table/tbody/tr/td[1]/nav/div/ul/li[{len(nexx)}]').click()\n",
    "    time.sleep(5)\n",
    "    #element = WebDriverWait(driver,2).until(EC.presence_of_element_located((By.XPATH,'//*[@id=\"resultsBody\"]')))\n",
    "    soup = BeautifulSoup(driver.page_source,'lxml')\n",
    "    postings = soup.find('ul',class_='jobsearch-ResultsList css-0').find_all('li')[:-1]\n",
    "    count += 1\n",
    "    if df.shape[0]>20:\n",
    "        break"
   ]
  },
  {
   "cell_type": "code",
   "execution_count": 10,
   "metadata": {},
   "outputs": [
    {
     "data": {
      "text/html": [
       "<div>\n",
       "<style scoped>\n",
       "    .dataframe tbody tr th:only-of-type {\n",
       "        vertical-align: middle;\n",
       "    }\n",
       "\n",
       "    .dataframe tbody tr th {\n",
       "        vertical-align: top;\n",
       "    }\n",
       "\n",
       "    .dataframe thead th {\n",
       "        text-align: right;\n",
       "    }\n",
       "</style>\n",
       "<table border=\"1\" class=\"dataframe\">\n",
       "  <thead>\n",
       "    <tr style=\"text-align: right;\">\n",
       "      <th></th>\n",
       "      <th>Title</th>\n",
       "      <th>Company</th>\n",
       "      <th>Location</th>\n",
       "      <th>Posted Duration</th>\n",
       "      <th>Link</th>\n",
       "    </tr>\n",
       "  </thead>\n",
       "  <tbody>\n",
       "    <tr>\n",
       "      <th>0</th>\n",
       "      <td>Data Engineer</td>\n",
       "      <td>Maersk</td>\n",
       "      <td>Bengaluru, Karnataka</td>\n",
       "      <td>Posted 5 days ago</td>\n",
       "      <td>https://in.indeed.com/viewjob?jk=3c07bdd9cd9bb...</td>\n",
       "    </tr>\n",
       "    <tr>\n",
       "      <th>0</th>\n",
       "      <td>Data Engineer Intern</td>\n",
       "      <td>VR Ventures</td>\n",
       "      <td>Remote in Bengaluru, Karnataka</td>\n",
       "      <td>erActive 2 days ago</td>\n",
       "      <td>https://in.indeed.com/viewjoby/VR-Ventures/job...</td>\n",
       "    </tr>\n",
       "    <tr>\n",
       "      <th>0</th>\n",
       "      <td>Data Engineer</td>\n",
       "      <td>Finquest</td>\n",
       "      <td>Bengaluru, Karnataka</td>\n",
       "      <td>erActive 16 days ago</td>\n",
       "      <td>https://in.indeed.com/viewjob?jk=2ef961e7dc60c...</td>\n",
       "    </tr>\n",
       "    <tr>\n",
       "      <th>0</th>\n",
       "      <td>Data Engineer – ED&amp;A</td>\n",
       "      <td>Nike</td>\n",
       "      <td>Bengaluru, Karnataka</td>\n",
       "      <td>Posted 30+ days ago</td>\n",
       "      <td>https://in.indeed.com/viewjob?jk=bb3a30f0366ae...</td>\n",
       "    </tr>\n",
       "    <tr>\n",
       "      <th>0</th>\n",
       "      <td>Azure_Data_Engineer _T8</td>\n",
       "      <td>Mercedes-Benz Research and Development India...</td>\n",
       "      <td>Bengaluru, Karnataka</td>\n",
       "      <td>Posted 3 days ago</td>\n",
       "      <td>https://in.indeed.com/viewjob?jk=9b05803cbf11f...</td>\n",
       "    </tr>\n",
       "    <tr>\n",
       "      <th>0</th>\n",
       "      <td>Data Engineer</td>\n",
       "      <td>Shell</td>\n",
       "      <td>Bengaluru, Karnataka</td>\n",
       "      <td>Posted 1 day ago</td>\n",
       "      <td>https://in.indeed.com/viewjob?jk=b524814cbde39...</td>\n",
       "    </tr>\n",
       "    <tr>\n",
       "      <th>0</th>\n",
       "      <td>Python Programming Language Data Platform Engi...</td>\n",
       "      <td>Accenture</td>\n",
       "      <td>Bengaluru, Karnataka</td>\n",
       "      <td>Today</td>\n",
       "      <td>https://in.indeed.com/viewjob?jk=e5addb7318203...</td>\n",
       "    </tr>\n",
       "    <tr>\n",
       "      <th>0</th>\n",
       "      <td>Data Engineer: Data Integration</td>\n",
       "      <td>IBM</td>\n",
       "      <td>Bengaluru, Karnataka</td>\n",
       "      <td>Posted 1 day ago</td>\n",
       "      <td>https://in.indeed.com/viewjob?jk=f5d0f8f933b74...</td>\n",
       "    </tr>\n",
       "    <tr>\n",
       "      <th>0</th>\n",
       "      <td>Data Engineer</td>\n",
       "      <td>Mercedes-Benz Research and Development India...</td>\n",
       "      <td>Bengaluru, Karnataka</td>\n",
       "      <td>Posted 30+ days ago</td>\n",
       "      <td>https://in.indeed.com/viewjob?jk=37cab942bdc86...</td>\n",
       "    </tr>\n",
       "    <tr>\n",
       "      <th>0</th>\n",
       "      <td>Data Engineer(Jr)</td>\n",
       "      <td>Bosch Group</td>\n",
       "      <td>Bengaluru, Karnataka</td>\n",
       "      <td>Today</td>\n",
       "      <td>https://in.indeed.com/viewjob?jk=a1b117b53945a...</td>\n",
       "    </tr>\n",
       "    <tr>\n",
       "      <th>0</th>\n",
       "      <td>Principal Engineer I - Data Strategy &amp; Enginee...</td>\n",
       "      <td>KANTAR</td>\n",
       "      <td>Bengaluru, Karnataka</td>\n",
       "      <td>Posted 30+ days ago</td>\n",
       "      <td>https://in.indeed.com/viewjob?jk=fee0bee4f4624...</td>\n",
       "    </tr>\n",
       "    <tr>\n",
       "      <th>0</th>\n",
       "      <td>Python Data Engineer</td>\n",
       "      <td>Global Weconnect Technologies Pvt Ltd</td>\n",
       "      <td>Bengaluru, Karnataka</td>\n",
       "      <td>erActive 3 days ago</td>\n",
       "      <td>https://in.indeed.com/viewjoby/Global-Weconnec...</td>\n",
       "    </tr>\n",
       "    <tr>\n",
       "      <th>0</th>\n",
       "      <td>Data Engineer</td>\n",
       "      <td>WN Infotech</td>\n",
       "      <td>Bengaluru, Karnataka</td>\n",
       "      <td>erActive 1 day ago</td>\n",
       "      <td>https://in.indeed.com/viewjoby/WN-Infotech/job...</td>\n",
       "    </tr>\n",
       "    <tr>\n",
       "      <th>0</th>\n",
       "      <td>Data Engineer</td>\n",
       "      <td>Lenovo</td>\n",
       "      <td>Bengaluru, Karnataka</td>\n",
       "      <td>Posted 23 days ago</td>\n",
       "      <td>https://in.indeed.com/viewjob?jk=1544940665dd1...</td>\n",
       "    </tr>\n",
       "    <tr>\n",
       "      <th>0</th>\n",
       "      <td>Data Analyst</td>\n",
       "      <td>WN Infotech</td>\n",
       "      <td>Bengaluru, Karnataka</td>\n",
       "      <td>erActive 1 day ago</td>\n",
       "      <td>https://in.indeed.com/viewjoby/WN-Infotech/job...</td>\n",
       "    </tr>\n",
       "    <tr>\n",
       "      <th>0</th>\n",
       "      <td>Process Engineer Reg Data Hub</td>\n",
       "      <td>ANZ Banking Group</td>\n",
       "      <td>Bengaluru, Karnataka</td>\n",
       "      <td>Posted 1 day ago</td>\n",
       "      <td>https://in.indeed.com/viewjob/clk?mo=r&amp;ad=-6NY...</td>\n",
       "    </tr>\n",
       "    <tr>\n",
       "      <th>0</th>\n",
       "      <td>Data Engineer</td>\n",
       "      <td>S&amp;P Global</td>\n",
       "      <td>Bengaluru, Karnataka</td>\n",
       "      <td>Posted 4 days ago</td>\n",
       "      <td>https://in.indeed.com/viewjob?jk=0ee2ad08dee03...</td>\n",
       "    </tr>\n",
       "    <tr>\n",
       "      <th>0</th>\n",
       "      <td>Microsoft Modern Data Platform Data Platform E...</td>\n",
       "      <td>Accenture</td>\n",
       "      <td>Bengaluru, Karnataka</td>\n",
       "      <td>Today</td>\n",
       "      <td>https://in.indeed.com/viewjob?jk=5a92f9b80eb09...</td>\n",
       "    </tr>\n",
       "    <tr>\n",
       "      <th>0</th>\n",
       "      <td>Azure data engineer</td>\n",
       "      <td>DXC Technology</td>\n",
       "      <td>Bengaluru, Karnataka</td>\n",
       "      <td>Posted 4 days ago</td>\n",
       "      <td>https://in.indeed.com/viewjob?jk=b8bb270cb4aaf...</td>\n",
       "    </tr>\n",
       "    <tr>\n",
       "      <th>0</th>\n",
       "      <td>Google Dataproc Data Platform Engineer</td>\n",
       "      <td>Accenture</td>\n",
       "      <td>Bengaluru, Karnataka</td>\n",
       "      <td>Today</td>\n",
       "      <td>https://in.indeed.com/viewjob?jk=5eb04797c37b8...</td>\n",
       "    </tr>\n",
       "    <tr>\n",
       "      <th>0</th>\n",
       "      <td>AWS Athena Data Platform Engineer</td>\n",
       "      <td>Accenture</td>\n",
       "      <td>Bengaluru, Karnataka</td>\n",
       "      <td>Today</td>\n",
       "      <td>https://in.indeed.com/viewjob?jk=09483e7cbb375...</td>\n",
       "    </tr>\n",
       "    <tr>\n",
       "      <th>0</th>\n",
       "      <td>Senior Data Engineer</td>\n",
       "      <td>Bajaj FinServ</td>\n",
       "      <td>Bengaluru, Karnataka</td>\n",
       "      <td>Posted 10 days ago</td>\n",
       "      <td>https://in.indeed.com/viewjob?jk=342a46459d99a...</td>\n",
       "    </tr>\n",
       "    <tr>\n",
       "      <th>0</th>\n",
       "      <td>Data Engineer: Enterprise Content Management</td>\n",
       "      <td>IBM</td>\n",
       "      <td>Bengaluru, Karnataka</td>\n",
       "      <td>Posted 1 day ago</td>\n",
       "      <td>https://in.indeed.com/viewjob?jk=570e73f9c928a...</td>\n",
       "    </tr>\n",
       "    <tr>\n",
       "      <th>0</th>\n",
       "      <td>GCP Data Engineer</td>\n",
       "      <td>V-EDGE Software Labs</td>\n",
       "      <td>Bengaluru, Karnataka</td>\n",
       "      <td>erActive 5 days ago</td>\n",
       "      <td>https://in.indeed.com/viewjoby/vedge-labs/jobs...</td>\n",
       "    </tr>\n",
       "    <tr>\n",
       "      <th>0</th>\n",
       "      <td>Azure Data Engineer</td>\n",
       "      <td>Marktine Technology Solutions</td>\n",
       "      <td>Remote in Bengaluru, Karnataka</td>\n",
       "      <td>erActive 2 days ago</td>\n",
       "      <td>https://in.indeed.com/viewjoby/Marktine-Techno...</td>\n",
       "    </tr>\n",
       "    <tr>\n",
       "      <th>0</th>\n",
       "      <td>RD/IME - Data Engineer - SSI</td>\n",
       "      <td>Mercedes-Benz Research and Development India...</td>\n",
       "      <td>Bengaluru, Karnataka</td>\n",
       "      <td>Posted 16 days ago</td>\n",
       "      <td>https://in.indeed.com/viewjob?jk=0395bdd7783aa...</td>\n",
       "    </tr>\n",
       "    <tr>\n",
       "      <th>0</th>\n",
       "      <td>Azure Databricks and Data Factory Engineer wit...</td>\n",
       "      <td>DXC Technology</td>\n",
       "      <td>Bengaluru, Karnataka</td>\n",
       "      <td>Posted 3 days ago</td>\n",
       "      <td>https://in.indeed.com/viewjob?jk=052eac71e4375...</td>\n",
       "    </tr>\n",
       "    <tr>\n",
       "      <th>0</th>\n",
       "      <td>Cloud data engineer</td>\n",
       "      <td>HADMS solutions private limited</td>\n",
       "      <td>Bengaluru, Karnataka</td>\n",
       "      <td>erActive 2 days ago</td>\n",
       "      <td>https://in.indeed.com/viewjoby/HADMS-solutions...</td>\n",
       "    </tr>\n",
       "    <tr>\n",
       "      <th>0</th>\n",
       "      <td>Azure Data Engineer</td>\n",
       "      <td>Pylon Management Consulting</td>\n",
       "      <td>Bengaluru, Karnataka</td>\n",
       "      <td>erActive 14 days ago</td>\n",
       "      <td>https://in.indeed.com/viewjoby/Pylon-Managemen...</td>\n",
       "    </tr>\n",
       "    <tr>\n",
       "      <th>0</th>\n",
       "      <td>Data Engineer : SQL,Snowflakes</td>\n",
       "      <td>Siemens Healthineers</td>\n",
       "      <td>Bengaluru, Karnataka</td>\n",
       "      <td>Posted 2 days ago</td>\n",
       "      <td>https://in.indeed.com/viewjob?jk=1a0e2baa63281...</td>\n",
       "    </tr>\n",
       "  </tbody>\n",
       "</table>\n",
       "</div>"
      ],
      "text/plain": [
       "                                               Title  \\\n",
       "0                                      Data Engineer   \n",
       "0                               Data Engineer Intern   \n",
       "0                                      Data Engineer   \n",
       "0                               Data Engineer – ED&A   \n",
       "0                            Azure_Data_Engineer _T8   \n",
       "0                                      Data Engineer   \n",
       "0  Python Programming Language Data Platform Engi...   \n",
       "0                    Data Engineer: Data Integration   \n",
       "0                                      Data Engineer   \n",
       "0                                  Data Engineer(Jr)   \n",
       "0  Principal Engineer I - Data Strategy & Enginee...   \n",
       "0                               Python Data Engineer   \n",
       "0                                      Data Engineer   \n",
       "0                                      Data Engineer   \n",
       "0                                       Data Analyst   \n",
       "0                      Process Engineer Reg Data Hub   \n",
       "0                                      Data Engineer   \n",
       "0  Microsoft Modern Data Platform Data Platform E...   \n",
       "0                                Azure data engineer   \n",
       "0             Google Dataproc Data Platform Engineer   \n",
       "0                  AWS Athena Data Platform Engineer   \n",
       "0                               Senior Data Engineer   \n",
       "0       Data Engineer: Enterprise Content Management   \n",
       "0                                  GCP Data Engineer   \n",
       "0                                Azure Data Engineer   \n",
       "0                       RD/IME - Data Engineer - SSI   \n",
       "0  Azure Databricks and Data Factory Engineer wit...   \n",
       "0                                Cloud data engineer   \n",
       "0                                Azure Data Engineer   \n",
       "0                     Data Engineer : SQL,Snowflakes   \n",
       "\n",
       "                                           Company  \\\n",
       "0                                           Maersk   \n",
       "0                                      VR Ventures   \n",
       "0                                         Finquest   \n",
       "0                                             Nike   \n",
       "0  Mercedes-Benz Research and Development India...   \n",
       "0                                            Shell   \n",
       "0                                        Accenture   \n",
       "0                                              IBM   \n",
       "0  Mercedes-Benz Research and Development India...   \n",
       "0                                      Bosch Group   \n",
       "0                                           KANTAR   \n",
       "0            Global Weconnect Technologies Pvt Ltd   \n",
       "0                                      WN Infotech   \n",
       "0                                           Lenovo   \n",
       "0                                      WN Infotech   \n",
       "0                                ANZ Banking Group   \n",
       "0                                       S&P Global   \n",
       "0                                        Accenture   \n",
       "0                                   DXC Technology   \n",
       "0                                        Accenture   \n",
       "0                                        Accenture   \n",
       "0                                    Bajaj FinServ   \n",
       "0                                              IBM   \n",
       "0                             V-EDGE Software Labs   \n",
       "0                    Marktine Technology Solutions   \n",
       "0  Mercedes-Benz Research and Development India...   \n",
       "0                                   DXC Technology   \n",
       "0                  HADMS solutions private limited   \n",
       "0                      Pylon Management Consulting   \n",
       "0                             Siemens Healthineers   \n",
       "\n",
       "                         Location       Posted Duration  \\\n",
       "0            Bengaluru, Karnataka     Posted 5 days ago   \n",
       "0  Remote in Bengaluru, Karnataka   erActive 2 days ago   \n",
       "0            Bengaluru, Karnataka  erActive 16 days ago   \n",
       "0            Bengaluru, Karnataka   Posted 30+ days ago   \n",
       "0            Bengaluru, Karnataka     Posted 3 days ago   \n",
       "0            Bengaluru, Karnataka      Posted 1 day ago   \n",
       "0            Bengaluru, Karnataka                 Today   \n",
       "0            Bengaluru, Karnataka      Posted 1 day ago   \n",
       "0            Bengaluru, Karnataka   Posted 30+ days ago   \n",
       "0            Bengaluru, Karnataka                 Today   \n",
       "0            Bengaluru, Karnataka   Posted 30+ days ago   \n",
       "0            Bengaluru, Karnataka   erActive 3 days ago   \n",
       "0            Bengaluru, Karnataka    erActive 1 day ago   \n",
       "0            Bengaluru, Karnataka    Posted 23 days ago   \n",
       "0            Bengaluru, Karnataka    erActive 1 day ago   \n",
       "0            Bengaluru, Karnataka      Posted 1 day ago   \n",
       "0            Bengaluru, Karnataka     Posted 4 days ago   \n",
       "0            Bengaluru, Karnataka                 Today   \n",
       "0            Bengaluru, Karnataka     Posted 4 days ago   \n",
       "0            Bengaluru, Karnataka                 Today   \n",
       "0            Bengaluru, Karnataka                 Today   \n",
       "0            Bengaluru, Karnataka    Posted 10 days ago   \n",
       "0            Bengaluru, Karnataka      Posted 1 day ago   \n",
       "0            Bengaluru, Karnataka   erActive 5 days ago   \n",
       "0  Remote in Bengaluru, Karnataka   erActive 2 days ago   \n",
       "0            Bengaluru, Karnataka    Posted 16 days ago   \n",
       "0            Bengaluru, Karnataka     Posted 3 days ago   \n",
       "0            Bengaluru, Karnataka   erActive 2 days ago   \n",
       "0            Bengaluru, Karnataka  erActive 14 days ago   \n",
       "0            Bengaluru, Karnataka     Posted 2 days ago   \n",
       "\n",
       "                                                Link  \n",
       "0  https://in.indeed.com/viewjob?jk=3c07bdd9cd9bb...  \n",
       "0  https://in.indeed.com/viewjoby/VR-Ventures/job...  \n",
       "0  https://in.indeed.com/viewjob?jk=2ef961e7dc60c...  \n",
       "0  https://in.indeed.com/viewjob?jk=bb3a30f0366ae...  \n",
       "0  https://in.indeed.com/viewjob?jk=9b05803cbf11f...  \n",
       "0  https://in.indeed.com/viewjob?jk=b524814cbde39...  \n",
       "0  https://in.indeed.com/viewjob?jk=e5addb7318203...  \n",
       "0  https://in.indeed.com/viewjob?jk=f5d0f8f933b74...  \n",
       "0  https://in.indeed.com/viewjob?jk=37cab942bdc86...  \n",
       "0  https://in.indeed.com/viewjob?jk=a1b117b53945a...  \n",
       "0  https://in.indeed.com/viewjob?jk=fee0bee4f4624...  \n",
       "0  https://in.indeed.com/viewjoby/Global-Weconnec...  \n",
       "0  https://in.indeed.com/viewjoby/WN-Infotech/job...  \n",
       "0  https://in.indeed.com/viewjob?jk=1544940665dd1...  \n",
       "0  https://in.indeed.com/viewjoby/WN-Infotech/job...  \n",
       "0  https://in.indeed.com/viewjob/clk?mo=r&ad=-6NY...  \n",
       "0  https://in.indeed.com/viewjob?jk=0ee2ad08dee03...  \n",
       "0  https://in.indeed.com/viewjob?jk=5a92f9b80eb09...  \n",
       "0  https://in.indeed.com/viewjob?jk=b8bb270cb4aaf...  \n",
       "0  https://in.indeed.com/viewjob?jk=5eb04797c37b8...  \n",
       "0  https://in.indeed.com/viewjob?jk=09483e7cbb375...  \n",
       "0  https://in.indeed.com/viewjob?jk=342a46459d99a...  \n",
       "0  https://in.indeed.com/viewjob?jk=570e73f9c928a...  \n",
       "0  https://in.indeed.com/viewjoby/vedge-labs/jobs...  \n",
       "0  https://in.indeed.com/viewjoby/Marktine-Techno...  \n",
       "0  https://in.indeed.com/viewjob?jk=0395bdd7783aa...  \n",
       "0  https://in.indeed.com/viewjob?jk=052eac71e4375...  \n",
       "0  https://in.indeed.com/viewjoby/HADMS-solutions...  \n",
       "0  https://in.indeed.com/viewjoby/Pylon-Managemen...  \n",
       "0  https://in.indeed.com/viewjob?jk=1a0e2baa63281...  "
      ]
     },
     "execution_count": 10,
     "metadata": {},
     "output_type": "execute_result"
    }
   ],
   "source": [
    "df"
   ]
  },
  {
   "cell_type": "code",
   "execution_count": null,
   "metadata": {},
   "outputs": [],
   "source": []
  },
  {
   "cell_type": "code",
   "execution_count": null,
   "metadata": {},
   "outputs": [],
   "source": [
    "driver.close()"
   ]
  },
  {
   "cell_type": "code",
   "execution_count": null,
   "metadata": {},
   "outputs": [],
   "source": []
  },
  {
   "cell_type": "code",
   "execution_count": null,
   "metadata": {},
   "outputs": [],
   "source": []
  },
  {
   "cell_type": "code",
   "execution_count": null,
   "metadata": {},
   "outputs": [],
   "source": [
    "driver = webdriver.Chrome('E:/Data Science Practice/Udemy/Web_scraping_course/chromedriver.exe')\n",
    "driver.get(url)"
   ]
  },
  {
   "cell_type": "code",
   "execution_count": null,
   "metadata": {},
   "outputs": [],
   "source": [
    "element = WebDriverWait(driver,10).until(EC.presence_of_element_located((By.XPATH,'xpath','//*[@id=\"text-input-what\"]')))"
   ]
  },
  {
   "cell_type": "code",
   "execution_count": null,
   "metadata": {},
   "outputs": [],
   "source": [
    "what = driver.find_element('xpath','//*[@id=\"text-input-what\"]')"
   ]
  },
  {
   "cell_type": "code",
   "execution_count": null,
   "metadata": {},
   "outputs": [],
   "source": [
    "what.send_keys(job)"
   ]
  },
  {
   "cell_type": "code",
   "execution_count": null,
   "metadata": {},
   "outputs": [],
   "source": [
    "where = driver.find_element('xpath','//*[@id=\"text-input-where\"]')"
   ]
  },
  {
   "cell_type": "code",
   "execution_count": null,
   "metadata": {},
   "outputs": [],
   "source": [
    "where.send_keys(loc)"
   ]
  },
  {
   "cell_type": "code",
   "execution_count": null,
   "metadata": {},
   "outputs": [],
   "source": [
    "driver.find_element('xpath','//*[@id=\"jobsearch\"]/button').click()"
   ]
  },
  {
   "cell_type": "code",
   "execution_count": null,
   "metadata": {},
   "outputs": [],
   "source": [
    "element = WebDriverWait(driver,2).until(EC.presence_of_element_located((By.XPATH,'//*[@id=\"resultsBody\"]')))"
   ]
  },
  {
   "cell_type": "code",
   "execution_count": null,
   "metadata": {},
   "outputs": [],
   "source": [
    "soup = BeautifulSoup(driver.page_source,'lxml')"
   ]
  },
  {
   "cell_type": "code",
   "execution_count": null,
   "metadata": {},
   "outputs": [],
   "source": [
    "postings = soup.find('ul',class_='jobsearch-ResultsList css-0').find_all('li')[:-1]"
   ]
  },
  {
   "cell_type": "code",
   "execution_count": null,
   "metadata": {},
   "outputs": [],
   "source": [
    "link = 'https://in.indeed.com/viewjob' + postings[0].find('div',class_='slider_item css-kyg8or eu4oa1w0').find('a',class_='jcs-JobTitle css-jspxzf eu4oa1w0').get('href')[7:]"
   ]
  },
  {
   "cell_type": "code",
   "execution_count": null,
   "metadata": {},
   "outputs": [],
   "source": [
    "title = postings[0].find('div',class_='slider_item css-kyg8or eu4oa1w0').find('a',class_='jcs-JobTitle css-jspxzf eu4oa1w0').find('span').text"
   ]
  },
  {
   "cell_type": "code",
   "execution_count": null,
   "metadata": {},
   "outputs": [],
   "source": [
    "company = postings[0].find('div',class_='slider_item css-kyg8or eu4oa1w0').find('div',class_='heading6 company_location tapItem-gutter companyInfo').find('span').text"
   ]
  },
  {
   "cell_type": "code",
   "execution_count": null,
   "metadata": {},
   "outputs": [],
   "source": [
    "location = postings[0].find('div',class_='slider_item css-kyg8or eu4oa1w0').find('div',class_='heading6 company_location tapItem-gutter companyInfo').find('div',class_='companyLocation')"
   ]
  },
  {
   "cell_type": "code",
   "execution_count": null,
   "metadata": {},
   "outputs": [],
   "source": [
    "ratings = postings[0].find('div',class_='slider_item css-kyg8or eu4oa1w0').find('div',class_='heading6 company_location tapItem-gutter companyInfo').find('span',class_='ratingNumber').find('span',{'aria-hidden':'true'}).text"
   ]
  },
  {
   "cell_type": "code",
   "execution_count": null,
   "metadata": {},
   "outputs": [],
   "source": [
    "duration = postings[0].find('div',class_='slider_item css-kyg8or eu4oa1w0').find('table',class_='jobCardShelfContainer big6_visualChanges').find('div',class_='heading6 tapItem-gutter result-footer').find('span').text[6:]"
   ]
  },
  {
   "cell_type": "code",
   "execution_count": null,
   "metadata": {},
   "outputs": [],
   "source": [
    "cols = ['Title','Company','Location','Rating','Posted Duration','Link']\n",
    "df = pd.DataFrame(columns=cols)"
   ]
  },
  {
   "cell_type": "code",
   "execution_count": null,
   "metadata": {},
   "outputs": [],
   "source": [
    "while True:\n",
    "    for i in postings:\n",
    "        try:\n",
    "            aa = i.find('div',class_='slider_item css-kyg8or eu4oa1w0')\n",
    "            ls = []\n",
    "            ls.append(aa.find('a',class_='jcs-JobTitle css-jspxzf eu4oa1w0').find('span').text)\n",
    "            ls.append(aa.find('div',class_='heading6 company_location tapItem-gutter companyInfo').find('span').text)\n",
    "            ls.append(aa.find('div',class_='heading6 company_location tapItem-gutter companyInfo').find('div',class_='companyLocation').text)\n",
    "            ls.append(aa.find('div',class_='heading6 company_location tapItem-gutter companyInfo').find('span',class_='ratingNumber').find('span',{'aria-hidden':'true'}).text)\n",
    "            ls.append(aa.find('table',class_='jobCardShelfContainer big6_visualChanges').find('div',class_='heading6 tapItem-gutter result-footer').find('span').text[6:])\n",
    "            ls.append('https://in.indeed.com/viewjob' + aa.find('a',class_='jcs-JobTitle css-jspxzf eu4oa1w0').get('href')[7:])\n",
    "            df = pd.concat([df,[dict(zip(cols,ls))]])\n",
    "        except:\n",
    "            pass\n",
    "    ActionChains(driver).move_to_element(driver.find_element('xpath','//*[@id=\"resultsCol\"]/nav/div/ul/li[6]')).perform()\n",
    "    driver.find_element('xpath','//*[@id=\"resultsCol\"]/nav/div/ul/li[6]/a').click()\n",
    "    element = WebDriverWait(driver,2).until(EC.presence_of_element_located((By.XPATH,'//*[@id=\"resultsBody\"]')))\n",
    "    soup = BeautifulSoup(driver.page_source,'lxml')\n",
    "    postings = soup.find('ul',class_='jobsearch-ResultsList css-0').find_all('li')[:-1]\n",
    "    if df.shape[0]>200:\n",
    "        break"
   ]
  },
  {
   "cell_type": "code",
   "execution_count": null,
   "metadata": {},
   "outputs": [],
   "source": [
    "driver.find_element('xpath','//*[@id=\"resultsCol\"]/nav/div/ul/li[6]/a').click()"
   ]
  },
  {
   "cell_type": "code",
   "execution_count": null,
   "metadata": {},
   "outputs": [],
   "source": []
  },
  {
   "cell_type": "code",
   "execution_count": null,
   "metadata": {},
   "outputs": [],
   "source": []
  }
 ],
 "metadata": {
  "kernelspec": {
   "display_name": "Python 3.8.7 ('Science': venv)",
   "language": "python",
   "name": "python3"
  },
  "language_info": {
   "codemirror_mode": {
    "name": "ipython",
    "version": 3
   },
   "file_extension": ".py",
   "mimetype": "text/x-python",
   "name": "python",
   "nbconvert_exporter": "python",
   "pygments_lexer": "ipython3",
   "version": "3.8.7"
  },
  "orig_nbformat": 4,
  "vscode": {
   "interpreter": {
    "hash": "e35e27e9c9999ad18fd9b0a83fb562d8ff48681b4d4a06bbb9636a948a420ed2"
   }
  }
 },
 "nbformat": 4,
 "nbformat_minor": 2
}
