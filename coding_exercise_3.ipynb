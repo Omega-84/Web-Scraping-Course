{
 "cells": [
  {
   "cell_type": "code",
   "execution_count": 1,
   "metadata": {},
   "outputs": [
    {
     "name": "stdout",
     "output_type": "stream",
     "text": [
      "Can scrape\n"
     ]
    }
   ],
   "source": [
    "import requests\n",
    "from bs4 import BeautifulSoup\n",
    "import pandas as pd\n",
    "url = 'https://www.carpages.ca/used-cars/search/?fueltype_id%5B0%5D=3&fueltype_id%5B1%5D=7'\n",
    "page = requests.get(url)\n",
    "if page.status_code == 200:\n",
    "    print(\"Can scrape\")\n",
    "else:\n",
    "    print('Not allowed')\n",
    "soup = BeautifulSoup(page.text,'lxml')"
   ]
  },
  {
   "cell_type": "code",
   "execution_count": 2,
   "metadata": {},
   "outputs": [],
   "source": [
    "cols = ['Title','Description','KMs_driven','Color','Price','Link']"
   ]
  },
  {
   "cell_type": "code",
   "execution_count": 3,
   "metadata": {},
   "outputs": [],
   "source": [
    "df = pd.DataFrame(columns=cols)\n",
    "skipped = pd.DataFrame(columns=['Page','Posting_no'])"
   ]
  },
  {
   "cell_type": "code",
   "execution_count": 4,
   "metadata": {},
   "outputs": [
    {
     "name": "stdout",
     "output_type": "stream",
     "text": [
      "Can scrape\n",
      "Can scrape\n",
      "Can scrape\n",
      "Can scrape\n",
      "Can scrape\n",
      "Can scrape\n",
      "Can scrape\n",
      "Can scrape\n",
      "Can scrape\n",
      "Can scrape\n",
      "Can scrape\n",
      "Can scrape\n",
      "Can scrape\n",
      "Can scrape\n",
      "Can scrape\n"
     ]
    }
   ],
   "source": [
    "count = 1\n",
    "while count<=15:\n",
    "    post = soup.find_all('div',class_='media soft push-none rule')\n",
    "    for i,j in enumerate(post):\n",
    "        try:\n",
    "            ls = []\n",
    "            ls.append(j.find('div',class_='media__content').find('hgroup',class_='push-half--bottom').find('a').get('title').strip())\n",
    "            ls.append(j.find('div',class_='media__content').find('hgroup',class_='push-half--bottom').find('h5').text.strip())\n",
    "            ls.append(\"\".join([i.text for i in j.find('div',class_='media__content').find_all('div',class_='grey l-column l-column--small-6 l-column--medium-4')[0].find_all('span',class_='number')]))\n",
    "            ls.append(j.find('div',class_='media__content').find_all('div',class_='grey l-column l-column--small-6 l-column--medium-4')[1].find('span').text.strip())\n",
    "            ls.append(j.find('div',class_='media__content').find('div',class_='l-column l-column--medium-4 push-none').find('strong').text.strip())\n",
    "            ls.append('https://www.carpages.ca' + j.find('a',class_='media__img media__img--thumb').get('href'))\n",
    "            df = df.append(dict(zip(cols,ls)),ignore_index=True)\n",
    "        except:\n",
    "            skipped = skipped.append(dict(zip(['Page','Posting_no'],[count,i+1])),ignore_index=True)\n",
    "        \n",
    "    next_page = soup.find('a',{'title':'Next Page','class':'nextprev'})\n",
    "    if next_page != None :\n",
    "        url = \"https://www.carpages.ca\" + next_page.get('href')\n",
    "    else:\n",
    "        print(\"Pages ended\")    \n",
    "        break\n",
    "    page = requests.get(url)\n",
    "    if page.status_code == 200:\n",
    "        print(\"Can scrape\")\n",
    "    else:\n",
    "        print('Not allowed')\n",
    "    soup = BeautifulSoup(page.text,'lxml')\n",
    "    count += 1"
   ]
  },
  {
   "cell_type": "code",
   "execution_count": 6,
   "metadata": {},
   "outputs": [],
   "source": [
    "df.to_csv('car_page_posting.csv',index=False)"
   ]
  },
  {
   "cell_type": "code",
   "execution_count": null,
   "metadata": {},
   "outputs": [],
   "source": []
  },
  {
   "cell_type": "code",
   "execution_count": null,
   "metadata": {},
   "outputs": [],
   "source": []
  },
  {
   "cell_type": "markdown",
   "metadata": {},
   "source": [
    "# Testing"
   ]
  },
  {
   "cell_type": "code",
   "execution_count": 2,
   "metadata": {},
   "outputs": [],
   "source": [
    "post = soup.find('div',class_='media soft push-none rule')"
   ]
  },
  {
   "cell_type": "code",
   "execution_count": 6,
   "metadata": {},
   "outputs": [],
   "source": [
    "link = 'https://www.carpages.ca' + post.find('a',class_='media__img media__img--thumb').get('href')"
   ]
  },
  {
   "cell_type": "code",
   "execution_count": 11,
   "metadata": {},
   "outputs": [],
   "source": [
    "title = post.find('div',class_='media__content').find('hgroup',class_='push-half--bottom').find('a').get('title').strip()"
   ]
  },
  {
   "cell_type": "code",
   "execution_count": 17,
   "metadata": {},
   "outputs": [],
   "source": [
    "desc = post.find('div',class_='media__content').find('hgroup',class_='push-half--bottom').find('h5').text.strip()"
   ]
  },
  {
   "cell_type": "code",
   "execution_count": 23,
   "metadata": {},
   "outputs": [],
   "source": [
    "price = post.find('div',class_='media__content').find('div',class_='l-column l-column--medium-4 push-none').find('strong').text.strip()"
   ]
  },
  {
   "cell_type": "code",
   "execution_count": 30,
   "metadata": {},
   "outputs": [],
   "source": [
    "driven_km = \"\".join([i.text for i in post.find('div',class_='media__content').find_all('div',class_='grey l-column l-column--small-6 l-column--medium-4')[0].find_all('span',class_='number')])"
   ]
  },
  {
   "cell_type": "code",
   "execution_count": 37,
   "metadata": {},
   "outputs": [],
   "source": [
    "color = post.find('div',class_='media__content').find_all('div',class_='grey l-column l-column--small-6 l-column--medium-4')[1].find('span').text.strip()"
   ]
  },
  {
   "cell_type": "code",
   "execution_count": 40,
   "metadata": {},
   "outputs": [
    {
     "data": {
      "text/plain": [
       "'/used-cars/search/?num_results=50&fueltype_id%5B0%5D=3&fueltype_id%5B1%5D=7&p=2'"
      ]
     },
     "execution_count": 40,
     "metadata": {},
     "output_type": "execute_result"
    }
   ],
   "source": [
    "soup.find('a',{'title':'Next Page','class':'nextprev'}).get('href')"
   ]
  },
  {
   "cell_type": "code",
   "execution_count": null,
   "metadata": {},
   "outputs": [],
   "source": []
  }
 ],
 "metadata": {
  "kernelspec": {
   "display_name": "Python 3.8.7 ('Science': venv)",
   "language": "python",
   "name": "python3"
  },
  "language_info": {
   "codemirror_mode": {
    "name": "ipython",
    "version": 3
   },
   "file_extension": ".py",
   "mimetype": "text/x-python",
   "name": "python",
   "nbconvert_exporter": "python",
   "pygments_lexer": "ipython3",
   "version": "3.8.7"
  },
  "orig_nbformat": 4,
  "vscode": {
   "interpreter": {
    "hash": "e35e27e9c9999ad18fd9b0a83fb562d8ff48681b4d4a06bbb9636a948a420ed2"
   }
  }
 },
 "nbformat": 4,
 "nbformat_minor": 2
}
